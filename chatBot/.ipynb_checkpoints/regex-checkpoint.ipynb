{
 "cells": [
  {
   "cell_type": "code",
   "execution_count": 2,
   "id": "b5a7ef9f-94ca-47a1-b6a0-5f58c009fa6e",
   "metadata": {},
   "outputs": [],
   "source": [
    "import re "
   ]
  },
  {
   "cell_type": "code",
   "execution_count": 6,
   "id": "df34f8c8-18c4-43f7-8a23-505528da684a",
   "metadata": {},
   "outputs": [],
   "source": [
    "chat1 = 'User: you are annoying af 1234567892, shashanksoni651156@gmail.com'\n",
    "chat2 = 'User: here it is: (123)-546-8356, shashanksoni651156@gmail.com'\n",
    "chat3 = 'User: yes, 123-546-8356, shashanksoni651156@gmail.com'"
   ]
  },
  {
   "cell_type": "code",
   "execution_count": 12,
   "id": "64d8841d-e6c8-4300-ae6f-7262533a52c9",
   "metadata": {},
   "outputs": [
    {
     "name": "stdout",
     "output_type": "stream",
     "text": [
      "['1234567892']\n",
      "['(123)-546-8356']\n",
      "['123-546-8356']\n"
     ]
    }
   ],
   "source": [
    "pattern = '\\d{10}|\\(\\d{3}\\)-\\d{3}-\\d{4}|\\d{3}-\\d{3}-\\d{4}'\n",
    "matches = re.findall(pattern, chat1)\n",
    "print(matches)\n",
    "matches = re.findall(pattern, chat2)\n",
    "print(matches)\n",
    "matches = re.findall(pattern, chat3)\n",
    "print(matches)"
   ]
  },
  {
   "cell_type": "code",
   "execution_count": 18,
   "id": "162874ee-7b3c-440e-8db6-afffa1b34bae",
   "metadata": {},
   "outputs": [],
   "source": [
    "# email_pat = '\\w+@\\w+.\\w+'\n",
    "email_pat = ^[a-zA-Z0-9._%+-]+@[a-zA-Z0-9.-]+\\.[a-zA-Z]{2,}$"
   ]
  },
  {
   "cell_type": "code",
   "execution_count": 17,
   "id": "91dc8295-0c5e-42b9-9359-9380418d4fc8",
   "metadata": {},
   "outputs": [
    {
     "data": {
      "text/plain": [
       "['shashanksoni651156@gmail.com']"
      ]
     },
     "execution_count": 17,
     "metadata": {},
     "output_type": "execute_result"
    }
   ],
   "source": [
    "matches = re.findall(email_pat, chat3)\n",
    "matches"
   ]
  },
  {
   "cell_type": "code",
   "execution_count": 22,
   "id": "67629ae7-2aed-4a79-bc8f-797bbc623f45",
   "metadata": {},
   "outputs": [],
   "source": [
    "chat1 = 'User: Hello, I\\'m Shashank and my order number is #345987234'\n",
    "chat2 = 'User: I have a problem with my order number 345987234'\n",
    "chat3 = 'User: My order 345987234 is having an issue, I was charged INR 4958 when online it says it\\'s only INR 4600'"
   ]
  },
  {
   "cell_type": "code",
   "execution_count": 23,
   "id": "83328bca-f217-4e27-8a53-68e539b86a36",
   "metadata": {},
   "outputs": [
    {
     "data": {
      "text/plain": [
       "['345987234']"
      ]
     },
     "execution_count": 23,
     "metadata": {},
     "output_type": "execute_result"
    }
   ],
   "source": [
    "order_num_pat = 'order[^\\d]*(\\d*)'\n",
    "matches = re.findall(order_num_pat, chat1)\n",
    "matches"
   ]
  },
  {
   "cell_type": "code",
   "execution_count": null,
   "id": "9884e3b7-f731-432a-baf7-eda3b09b8fd0",
   "metadata": {},
   "outputs": [],
   "source": [
    "text = '''Born\tMark Elliot Zuckerberg\n",
    "May 14, 1984 (age 40)\n",
    "White Plains, New York, U.S.\n",
    "Other names\tZuck\n",
    "Education\tHarvard College (dropped out)\n",
    "Occupations\t\n",
    "Businessmancomputer programmerphilanthropist\n",
    "Years active\t2004–present\n",
    "Title\t\n",
    "Co-founder, chairman and CEO of Meta Platforms (formerly Facebook, Inc.)\n",
    "Co-founder and co-CEO of Chan Zuckerberg Initiative\n",
    "Spouse\tPriscilla Chan ​(m. 2012)​\n",
    "Children\t3\n",
    "Relatives\t\n",
    "Randi Zuckerberg (sister)\n",
    "Donna Zuckerberg (sister)\n",
    "Website\tfacebook.com/zuck'''"
   ]
  }
 ],
 "metadata": {
  "kernelspec": {
   "display_name": "Python 3 (ipykernel)",
   "language": "python",
   "name": "python3"
  },
  "language_info": {
   "codemirror_mode": {
    "name": "ipython",
    "version": 3
   },
   "file_extension": ".py",
   "mimetype": "text/x-python",
   "name": "python",
   "nbconvert_exporter": "python",
   "pygments_lexer": "ipython3",
   "version": "3.11.4"
  }
 },
 "nbformat": 4,
 "nbformat_minor": 5
}
