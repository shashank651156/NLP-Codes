{
 "cells": [
  {
   "cell_type": "code",
   "execution_count": 14,
   "id": "a1088f00-91e0-4fd9-af09-cb43c016acb4",
   "metadata": {},
   "outputs": [],
   "source": [
    "import nltk\n",
    "import spacy"
   ]
  },
  {
   "cell_type": "code",
   "execution_count": 15,
   "id": "fcc43797-b3fc-4e92-bea9-fbe99e7540eb",
   "metadata": {},
   "outputs": [],
   "source": [
    "#first, we will see the usage of PorterStemmer for stemming\n",
    "from nltk.stem import PorterStemmer\n",
    "\n",
    "stemmer = PorterStemmer()"
   ]
  },
  {
   "cell_type": "code",
   "execution_count": 16,
   "id": "57eacd3f-86ab-45ee-81e5-b63f6202d517",
   "metadata": {},
   "outputs": [
    {
     "name": "stdout",
     "output_type": "stream",
     "text": [
      "eating | eat\n",
      "eats | eat\n",
      "eat | eat\n",
      "ate | ate\n",
      "adjustable | adjust\n",
      "rafting | raft\n",
      "ability | abil\n",
      "meeting | meet\n"
     ]
    }
   ],
   "source": [
    "words = [\"eating\", \"eats\", \"eat\", \"ate\", \"adjustable\", \"rafting\", \"ability\", \"meeting\"]\n",
    "for word in words:\n",
    "    print(word, \"|\", stemmer.stem(word))"
   ]
  },
  {
   "cell_type": "code",
   "execution_count": 18,
   "id": "400060df-cf9d-4a90-9ff7-5a1f52868d88",
   "metadata": {},
   "outputs": [
    {
     "name": "stdout",
     "output_type": "stream",
     "text": [
      "eating | eat | 9837207709914848172\n",
      "eats | eat | 9837207709914848172\n",
      "eat | eat | 9837207709914848172\n",
      "ate | eat | 9837207709914848172\n",
      "adjustable | adjustable | 6033511944150694480\n",
      "rafting | raft | 7154368781129989833\n",
      "ability | ability | 11565809527369121409\n",
      "meeting | meet | 6880656908171229526\n",
      "better | well | 4525988469032889948\n"
     ]
    }
   ],
   "source": [
    "#Now we will see the lemmatization\n",
    "nlp = spacy.load(\"en_core_web_sm\")\n",
    "doc = nlp(\"eating eats eat ate adjustable rafting ability meeting better\")\n",
    "for token in doc:\n",
    "    print(token, \"|\", token.lemma_, \"|\", token.lemma)\n",
    "    "
   ]
  },
  {
   "cell_type": "code",
   "execution_count": 21,
   "id": "4faa1363-213d-43f8-b7f5-0155e0469c1c",
   "metadata": {},
   "outputs": [
    {
     "name": "stdout",
     "output_type": "stream",
     "text": [
      "My | my\n",
      "name | name\n",
      "is | be\n",
      "Shashank | Shashank\n",
      "and | and\n",
      "I | I\n",
      "'m | be\n",
      "a | a\n",
      "Java | Java\n",
      "Dev | Dev\n",
      "and | and\n",
      "a | a\n",
      "final | final\n",
      "year | year\n",
      "student | student\n",
      "from | from\n",
      "VIT | VIT\n",
      "Vellore | Vellore\n",
      ". | .\n",
      "I | I\n",
      "have | have\n",
      "an | an\n",
      "interest | interest\n",
      "in | in\n",
      "machine | machine\n",
      "learning | learn\n",
      "apart | apart\n",
      "from | from\n",
      "the | the\n",
      "the | the\n",
      "core | core\n",
      "comp | comp\n",
      "science | science\n",
      "engg | engg\n",
      "domain | domain\n",
      ". | .\n",
      "I | I\n",
      "like | like\n",
      "solving | solve\n",
      "problems | problem\n",
      "and | and\n",
      "eventually | eventually\n",
      ", | ,\n",
      "I | I\n",
      "create | create\n",
      "them | they\n"
     ]
    }
   ],
   "source": [
    "doc = nlp(\"My name is Shashank and I'm a Java Dev and a final year student from VIT Vellore. I have an interest in machine learning apart from the the core comp science engg domain. I like solving problems and eventually, I create them\")\n",
    "for token in doc:\n",
    "    print(token, \"|\", token.lemma_)"
   ]
  },
  {
   "cell_type": "code",
   "execution_count": 24,
   "id": "07c7d97b-d8ed-401d-b40d-5bdfb5e22d82",
   "metadata": {},
   "outputs": [
    {
     "data": {
      "text/plain": [
       "['tok2vec', 'tagger', 'parser', 'attribute_ruler', 'lemmatizer', 'ner']"
      ]
     },
     "execution_count": 24,
     "metadata": {},
     "output_type": "execute_result"
    }
   ],
   "source": [
    "nlp.pipe_names"
   ]
  },
  {
   "cell_type": "code",
   "execution_count": 31,
   "id": "51c4cdc0-5dc4-4775-8d59-af9b16ffc7e4",
   "metadata": {},
   "outputs": [
    {
     "name": "stdout",
     "output_type": "stream",
     "text": [
      "Bro | Brother\n",
      ", | ,\n",
      "you | you\n",
      "wanna | wanna\n",
      "go | go\n",
      "? | ?\n",
      "Brah | Brah\n",
      ", | ,\n",
      "do | do\n",
      "n't | not\n",
      "say | say\n",
      "no | no\n",
      "! | !\n",
      "I | I\n",
      "am | be\n",
      "exhausted | exhaust\n"
     ]
    }
   ],
   "source": [
    "#Customizing the model a little \n",
    "ar = nlp.get_pipe('attribute_ruler')\n",
    "ar.add([[{\"TEXT\": \"Bro\"}], [{\"TEXT\": \"Blah\"}]], {\"LEMMA\": \"Brother\"})\n",
    "doc =nlp(\"Bro, you wanna go? Brah, don't say no! I am exhausted\")\n",
    "for token in doc:\n",
    "    print(token.text, \"|\", token.lemma_)"
   ]
  },
  {
   "cell_type": "code",
   "execution_count": 33,
   "id": "f1be4648-3d52-4ecc-ac15-5d7c9264f52b",
   "metadata": {},
   "outputs": [
    {
     "data": {
      "text/plain": [
       "Bro"
      ]
     },
     "execution_count": 33,
     "metadata": {},
     "output_type": "execute_result"
    }
   ],
   "source": [
    "doc[0]"
   ]
  },
  {
   "cell_type": "code",
   "execution_count": 34,
   "id": "476bedc6-b3b4-4171-8bda-7c1a8eb5498e",
   "metadata": {},
   "outputs": [
    {
     "data": {
      "text/plain": [
       "'Brother'"
      ]
     },
     "execution_count": 34,
     "metadata": {},
     "output_type": "execute_result"
    }
   ],
   "source": [
    "doc[0].lemma_"
   ]
  }
 ],
 "metadata": {
  "kernelspec": {
   "display_name": "Python 3 (ipykernel)",
   "language": "python",
   "name": "python3"
  },
  "language_info": {
   "codemirror_mode": {
    "name": "ipython",
    "version": 3
   },
   "file_extension": ".py",
   "mimetype": "text/x-python",
   "name": "python",
   "nbconvert_exporter": "python",
   "pygments_lexer": "ipython3",
   "version": "3.11.4"
  }
 },
 "nbformat": 4,
 "nbformat_minor": 5
}
