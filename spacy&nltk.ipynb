{
 "cells": [
  {
   "cell_type": "code",
   "execution_count": 6,
   "id": "85ca94fe-db27-41c6-8382-a8a2ab46f18c",
   "metadata": {},
   "outputs": [],
   "source": [
    "import spacy"
   ]
  },
  {
   "cell_type": "code",
   "execution_count": 2,
   "id": "911609be-e529-419f-b904-0f178bd33e6d",
   "metadata": {},
   "outputs": [
    {
     "name": "stdout",
     "output_type": "stream",
     "text": [
      "Dr. Strange loves pav bhaji of Mumbai.\n",
      "Hulk loves chaat of Delhi\n"
     ]
    }
   ],
   "source": [
    "nlp = spacy.load(\"en_core_web_sm\")\n",
    "doc = nlp(\"Dr. Strange loves pav bhaji of Mumbai. Hulk loves chaat of Delhi\")\n",
    "for sentence in doc.sents:\n",
    "    print(sentence)\n"
   ]
  },
  {
   "cell_type": "code",
   "execution_count": 3,
   "id": "36c2e2c4-1496-4d53-bec4-3c8d37114a5e",
   "metadata": {},
   "outputs": [
    {
     "name": "stderr",
     "output_type": "stream",
     "text": [
      "[nltk_data] Downloading package punkt to C:\\Users\\shash/nltk_data...\n",
      "[nltk_data]   Package punkt is already up-to-date!\n"
     ]
    },
    {
     "data": {
      "text/plain": [
       "True"
      ]
     },
     "execution_count": 3,
     "metadata": {},
     "output_type": "execute_result"
    }
   ],
   "source": [
    "import nltk\n",
    "nltk.download('punkt')"
   ]
  },
  {
   "cell_type": "code",
   "execution_count": 5,
   "id": "fd40e5c7-ccdd-4b49-bcc4-cd613d650b1e",
   "metadata": {},
   "outputs": [
    {
     "data": {
      "text/plain": [
       "['Dr.', 'Strange loves pav bhaji of Mumbai.', 'Hulk loves chaat of Delhi']"
      ]
     },
     "execution_count": 5,
     "metadata": {},
     "output_type": "execute_result"
    }
   ],
   "source": [
    "from nltk.tokenize import sent_tokenize\n",
    "sent_tokenize(\"Dr. Strange loves pav bhaji of Mumbai. Hulk loves chaat of Delhi\")"
   ]
  },
  {
   "cell_type": "code",
   "execution_count": 4,
   "id": "2e64a516-1c35-4390-b8e4-07c813d559db",
   "metadata": {},
   "outputs": [
    {
     "data": {
      "text/plain": [
       "['Dr',\n",
       " '.',\n",
       " 'Strange',\n",
       " 'loves',\n",
       " 'pav',\n",
       " 'bhaji',\n",
       " 'of',\n",
       " 'Mumbai',\n",
       " '.',\n",
       " 'Hulk',\n",
       " 'loves',\n",
       " 'chaat',\n",
       " 'of',\n",
       " 'Delhi']"
      ]
     },
     "execution_count": 4,
     "metadata": {},
     "output_type": "execute_result"
    }
   ],
   "source": [
    "from nltk.tokenize import word_tokenize\n",
    "word_tokenize(\"Dr. Strange loves pav bhaji of Mumbai. Hulk loves chaat of Delhi\")"
   ]
  },
  {
   "cell_type": "code",
   "execution_count": 8,
   "id": "acd5896c-6616-4d03-9293-10ab213f32e1",
   "metadata": {},
   "outputs": [],
   "source": [
    "#spacy is object oriented and gives the skin/filter to perform the task. \n",
    "#It's like a phone's camera where most of the adjustments will be done automatically and we dont have to do most of the settings\n",
    "#whereas the nltk lib is like a DSLR where we have the full control to change each and everything \n",
    "#and the output depends upon the knowloedge and the adjustments we make.\n",
    "#nltk is less user friendly as we can see\n",
    "#spacy is for dev and nltk is for researchers"
   ]
  },
  {
   "cell_type": "code",
   "execution_count": null,
   "id": "1003e10a-6a66-4aa0-961e-94addac9e304",
   "metadata": {},
   "outputs": [],
   "source": []
  }
 ],
 "metadata": {
  "kernelspec": {
   "display_name": "Python 3 (ipykernel)",
   "language": "python",
   "name": "python3"
  },
  "language_info": {
   "codemirror_mode": {
    "name": "ipython",
    "version": 3
   },
   "file_extension": ".py",
   "mimetype": "text/x-python",
   "name": "python",
   "nbconvert_exporter": "python",
   "pygments_lexer": "ipython3",
   "version": "3.11.4"
  }
 },
 "nbformat": 4,
 "nbformat_minor": 5
}
